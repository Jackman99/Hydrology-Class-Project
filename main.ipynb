{
 "cells": [
  {
   "cell_type": "code",
   "execution_count": 4,
   "metadata": {},
   "outputs": [],
   "source": [
    "# Load the Catchment data\n",
    "from Reader import load_catchments\n",
    "catchments = load_catchments('catchments_data.pkl')\n",
    "p = 1"
   ]
  },
  {
   "cell_type": "code",
   "execution_count": 2,
   "metadata": {},
   "outputs": [],
   "source": [
    "#for catchment in catchments: # use the first catchment as an example to show capabilities of the plot_yearly_data method\n",
    "\n",
    "    # catchment.plot_yearly_data(1990, 'precipitation')  # Plotting precipitation for the year 1990\n",
    "    # catchment.plot_yearly_data(1990, 'potential_evaporation')  # Plotting potential evaporation for the year 1990\n",
    "    # catchment.plot_yearly_data(1990, 'total_streamflow')  # Plotting total streamflow for the year 1990\n",
    "    # catchment.plot_yearly_data(1990, 'fast_flow')  # Plotting fast flow for the year 1990\n",
    "    # catchment.plot_yearly_data(1990, 'slow_flow')  # Plotting slow flow for the year 1990\n",
    "    # catchment.plot_yearly_data(2001, 'combination')  # Plotting a combination of data for the year 1990\n",
    "\n",
    "    #catchment.plot_yearly_data(1990, 'precipitation', average_over_month=True)  # Can also average precipitation per month"
   ]
  },
  {
   "cell_type": "code",
   "execution_count": 6,
   "metadata": {},
   "outputs": [
    {
     "ename": "AttributeError",
     "evalue": "'Catchment' object has no attribute 'plot_max_values_each_year'",
     "output_type": "error",
     "traceback": [
      "\u001b[1;31m---------------------------------------------------------------------------\u001b[0m",
      "\u001b[1;31mAttributeError\u001b[0m                            Traceback (most recent call last)",
      "\u001b[1;32mc:\\Users\\jdrimer2\\OneDrive - University of Illinois - Urbana\\Classes\\Hydrology\\Project\\main.ipynb Cell 3\u001b[0m line \u001b[0;36m1\n\u001b[1;32m----> <a href='vscode-notebook-cell:/c%3A/Users/jdrimer2/OneDrive%20-%20University%20of%20Illinois%20-%20Urbana/Classes/Hydrology/Project/main.ipynb#W2sZmlsZQ%3D%3D?line=0'>1</a>\u001b[0m catchments[\u001b[39m0\u001b[39;49m]\u001b[39m.\u001b[39;49mplot_max_values_each_year(\u001b[39m'\u001b[39m\u001b[39mtotal_streamflow\u001b[39m\u001b[39m'\u001b[39m)\n",
      "\u001b[1;31mAttributeError\u001b[0m: 'Catchment' object has no attribute 'plot_max_values_each_year'"
     ]
    }
   ],
   "source": [
    "catchments[0].plot_max_values_each_year('total_streamflow')\n"
   ]
  }
 ],
 "metadata": {
  "kernelspec": {
   "display_name": "Python 3",
   "language": "python",
   "name": "python3"
  },
  "language_info": {
   "codemirror_mode": {
    "name": "ipython",
    "version": 3
   },
   "file_extension": ".py",
   "mimetype": "text/x-python",
   "name": "python",
   "nbconvert_exporter": "python",
   "pygments_lexer": "ipython3",
   "version": "3.8.10"
  }
 },
 "nbformat": 4,
 "nbformat_minor": 2
}
